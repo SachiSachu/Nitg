{
  "nbformat": 4,
  "nbformat_minor": 0,
  "metadata": {
    "colab": {
      "name": "projectwork.ipynb",
      "provenance": [],
      "collapsed_sections": [],
      "authorship_tag": "ABX9TyMFcVLrwSB3p7+W2O61HBTo",
      "include_colab_link": true
    },
    "kernelspec": {
      "name": "python3",
      "display_name": "Python 3"
    },
    "language_info": {
      "name": "python"
    }
  },
  "cells": [
    {
      "cell_type": "markdown",
      "metadata": {
        "id": "view-in-github",
        "colab_type": "text"
      },
      "source": [
        "<a href=\"https://colab.research.google.com/github/SachiSachu/Nitg/blob/main/projectwork.ipynb\" target=\"_parent\"><img src=\"https://colab.research.google.com/assets/colab-badge.svg\" alt=\"Open In Colab\"/></a>"
      ]
    },
    {
      "cell_type": "code",
      "metadata": {
        "id": "Mr3Xe1tRXhHi"
      },
      "source": [
        "import numpy as np\n",
        "import matplotlib.pyplot as plt\n",
        "import pandas as pd\n",
        "import random\n",
        "import math\n"
      ],
      "execution_count": 12,
      "outputs": []
    },
    {
      "cell_type": "markdown",
      "metadata": {
        "id": "ulATeGQBNLfK"
      },
      "source": [
        "Edge devices Consideration"
      ]
    },
    {
      "cell_type": "code",
      "metadata": {
        "id": "hgwtkXxsAdAa"
      },
      "source": [
        "edges = 2\n",
        "#edges = int(input('number of edge devices: '))"
      ],
      "execution_count": 13,
      "outputs": []
    },
    {
      "cell_type": "markdown",
      "metadata": {
        "id": "pjSnIZx8NRze"
      },
      "source": [
        "Number of IoT devices"
      ]
    },
    {
      "cell_type": "code",
      "metadata": {
        "id": "oT1Dt1iqBV-y"
      },
      "source": [
        "iot = 6\n",
        "#iot = int(input(\"number of IOT devices: \"))"
      ],
      "execution_count": 14,
      "outputs": []
    },
    {
      "cell_type": "markdown",
      "metadata": {
        "id": "M7UHOBSoNXZe"
      },
      "source": [
        "Positions of Edge devices\n",
        "\n",
        "\n",
        "\n",
        "array([[32, 14],\n",
        "       [43, 17]])\n"
      ]
    },
    {
      "cell_type": "code",
      "metadata": {
        "colab": {
          "base_uri": "https://localhost:8080/"
        },
        "id": "0RYjkkybCag2",
        "outputId": "83387338-0dca-4b7d-88ea-7c4fef42ce62"
      },
      "source": [
        "edgeco = [[32, 14],\n",
        "       [43, 17]]\n",
        "\"\"\"for i in range(edges):\n",
        "  ar1 = []\n",
        "  x = random.randint(0,100)\n",
        "  ar1.append(x)\n",
        "  y = random.randint(0,100)\n",
        "  ar1.append(y)\n",
        "  edgeco.append(ar1)\"\"\"\n",
        "np.array(edgeco)"
      ],
      "execution_count": 15,
      "outputs": [
        {
          "output_type": "execute_result",
          "data": {
            "text/plain": [
              "array([[32, 14],\n",
              "       [43, 17]])"
            ]
          },
          "metadata": {},
          "execution_count": 15
        }
      ]
    },
    {
      "cell_type": "markdown",
      "metadata": {
        "id": "Hd68nQcXNf1Q"
      },
      "source": [
        "Position of IoT devices\n",
        "\n",
        "\n",
        "\n",
        "iotco = [[22, 34],\n",
        "       [20, 30],\n",
        "       [ 43, 39],\n",
        "       [35, 40],\n",
        "       [45, 39],\n",
        "       [55, 38]]"
      ]
    },
    {
      "cell_type": "code",
      "metadata": {
        "colab": {
          "base_uri": "https://localhost:8080/"
        },
        "id": "pUrppQTPENmI",
        "outputId": "1f0557ed-cee3-4c26-8ddc-86cf8023a375"
      },
      "source": [
        "iotco = [[22, 34],\n",
        "       [20, 30],\n",
        "       [ 43, 39],\n",
        "       [35, 40],\n",
        "       [45, 39],\n",
        "       [22, 37]]\n",
        "\"\"\"for i in range(iot):\n",
        "  ar1 = []\n",
        "  x = random.randint(0,100)\n",
        "  ar1.append(x)\n",
        "  y = random.randint(0,100)\n",
        "  ar1.append(y)\n",
        "  iotco.append(ar1)\"\"\"\n",
        "np.array(iotco)"
      ],
      "execution_count": 16,
      "outputs": [
        {
          "output_type": "execute_result",
          "data": {
            "text/plain": [
              "array([[22, 34],\n",
              "       [20, 30],\n",
              "       [43, 39],\n",
              "       [35, 40],\n",
              "       [45, 39],\n",
              "       [22, 37]])"
            ]
          },
          "metadata": {},
          "execution_count": 16
        }
      ]
    },
    {
      "cell_type": "markdown",
      "metadata": {
        "id": "I8toQL3bNlCB"
      },
      "source": [
        "Euclidean distance between edge device and IoT device\n",
        "d^2 = summation(xi - yi) where i= 1,2,3.......n\n"
      ]
    },
    {
      "cell_type": "code",
      "metadata": {
        "colab": {
          "base_uri": "https://localhost:8080/"
        },
        "id": "idOjI_DCLPX1",
        "outputId": "13f8b895-0a92-45b9-8a96-23a308297f69"
      },
      "source": [
        "dist = []\n",
        "for i in range(iot):\n",
        "  ar1 = []\n",
        "  for j in range(edges):\n",
        "    x1 = (iotco[i][0]-edgeco[j][0])**2 + (iotco[i][1]-edgeco[j][1])**2\n",
        "    ar1.append(int(math.sqrt(x1)))\n",
        "  dist.append(ar1)\n",
        "np.array(dist)"
      ],
      "execution_count": 17,
      "outputs": [
        {
          "output_type": "execute_result",
          "data": {
            "text/plain": [
              "array([[22, 27],\n",
              "       [20, 26],\n",
              "       [27, 22],\n",
              "       [26, 24],\n",
              "       [28, 22],\n",
              "       [25, 29]])"
            ]
          },
          "metadata": {},
          "execution_count": 17
        }
      ]
    },
    {
      "cell_type": "markdown",
      "metadata": {
        "id": "u0Z6uxOWN8Ko"
      },
      "source": [
        "Connection Matrix which defines the connection between edge and IoT devices\n"
      ]
    },
    {
      "cell_type": "code",
      "metadata": {
        "id": "ZItEFm3cgoT-",
        "colab": {
          "base_uri": "https://localhost:8080/"
        },
        "outputId": "cea3cd7b-dc30-4af2-a8ea-279430cdc0f0"
      },
      "source": [
        "lim = 25\n",
        "conn = []\n",
        "for i in range(iot):\n",
        "  ar1 = []\n",
        "  for j in range(edges):\n",
        "    if dist[i][j] <=lim:\n",
        "      ar1.append(1)\n",
        "    else:\n",
        "      ar1.append(0)\n",
        "  conn.append(ar1)\n",
        "np.array(conn)"
      ],
      "execution_count": 18,
      "outputs": [
        {
          "output_type": "execute_result",
          "data": {
            "text/plain": [
              "array([[1, 0],\n",
              "       [1, 0],\n",
              "       [0, 1],\n",
              "       [0, 1],\n",
              "       [0, 1],\n",
              "       [1, 0]])"
            ]
          },
          "metadata": {},
          "execution_count": 18
        }
      ]
    },
    {
      "cell_type": "code",
      "metadata": {
        "id": "btT-_PbrNPKe"
      },
      "source": [
        "copyconn = [[1, 0],[1, 0],[1, 1],[0, 1],[0, 1],[1, 0]]\n",
        "copyconn1 = [[1, 0],[1, 0],[1, 1],[0, 1],[0, 1],[1, 0]]"
      ],
      "execution_count": 19,
      "outputs": []
    },
    {
      "cell_type": "code",
      "metadata": {
        "id": "XwQwFayaRZj7",
        "colab": {
          "base_uri": "https://localhost:8080/"
        },
        "outputId": "06f2f845-4bda-4250-8958-39d16a00b9bd"
      },
      "source": [
        "edge_iot1 = []\n",
        "edge_iot2 = []\n",
        "nonconn = []\n",
        "for i in range(iot):\n",
        "  for j in range(edges):\n",
        "    if copyconn[i][j] == 1:\n",
        "      if j==0:\n",
        "        edge_iot1.append(i+1)\n",
        "      elif j==1:\n",
        "        edge_iot2.append(i+1)\n",
        "      else:\n",
        "        nonconn.append(i+1)\n",
        "print(\"edge 1 connected to \",edge_iot1)\n",
        "print(\"edge 2 connected to \",edge_iot2)   "
      ],
      "execution_count": 20,
      "outputs": [
        {
          "output_type": "stream",
          "name": "stdout",
          "text": [
            "edge 1 connected to  [1, 2, 3, 6]\n",
            "edge 2 connected to  [3, 4, 5]\n"
          ]
        }
      ]
    },
    {
      "cell_type": "markdown",
      "metadata": {
        "id": "qLRiQb7dOJkM"
      },
      "source": [
        "[link text](https://)Load of edge devices \n",
        "& \n",
        "Load of IoT devices"
      ]
    },
    {
      "cell_type": "code",
      "metadata": {
        "id": "kztCeuJYiZkn"
      },
      "source": [
        "loadedge = [500,500]\n",
        "loadiot = [110, 50, 40, 100, 80, 40]"
      ],
      "execution_count": 21,
      "outputs": []
    },
    {
      "cell_type": "markdown",
      "metadata": {
        "id": "FQQ8kzICOW0Z"
      },
      "source": [
        "without Load balancing "
      ]
    },
    {
      "cell_type": "code",
      "metadata": {
        "id": "aE4Yift8Of0z",
        "colab": {
          "base_uri": "https://localhost:8080/",
          "height": 329
        },
        "outputId": "a4415e21-8ef0-4111-ac8a-5c89424359f3"
      },
      "source": [
        "sum1 = 0\n",
        "sum2 = 0\n",
        "duplicate = []\n",
        "for i in edge_iot1:\n",
        "  if i not in edge_iot2:\n",
        "    sum1 += loadiot[i-1]\n",
        "  else:\n",
        "    if i not in duplicate:\n",
        "      duplicate.append(i)\n",
        "for j in edge_iot2:\n",
        "  if j not in edge_iot1:\n",
        "    sum2 += loadiot[j-1]\n",
        "  else:\n",
        "    if j not in duplicate:\n",
        "      duplicate.append(j)\n",
        "lst = [sum1, sum2]\n",
        "chse = random.choices(lst,k=1)\n",
        "for i in chse:\n",
        "  k = i\n",
        "for val in duplicate:\n",
        "  if k == sum1:\n",
        "    sum1 += loadiot[val-1]\n",
        "    copyconn[val-1][1] = 0\n",
        "  elif k == sum2:\n",
        "    sum2 += loadiot[val-1]\n",
        "    copyconn[val-1][0] = 0\n",
        "print(\"load on edge1 \",sum1)\n",
        "print(\"load on edge2 \",sum2)\n",
        "dict1 = {'Edge1': sum1,\n",
        "         'Edge2': sum2}\n",
        "x = dict1.keys()\n",
        "y = dict1.values()\n",
        "plt.grid()\n",
        "plt.xlabel(\"Edge servers\")\n",
        "plt.ylabel(\"Load on Edge servers(GB)\")\n",
        "plt.title(\"without load balancing at edge servers\")\n",
        "plt.bar(x,y, color='blue', width=0.2, alpha=0.5)\n",
        "plt.show()"
      ],
      "execution_count": 22,
      "outputs": [
        {
          "output_type": "stream",
          "name": "stdout",
          "text": [
            "load on edge1  240\n",
            "load on edge2  180\n"
          ]
        },
        {
          "output_type": "display_data",
          "data": {
            "image/png": "[encoded data removed]",
            "text/plain": [
              "<Figure size 432x288 with 1 Axes>"
            ]
          },
          "metadata": {
            "needs_background": "light"
          }
        }
      ]
    },
    {
      "cell_type": "markdown",
      "metadata": {
        "id": "3q88xTUqOgvi"
      },
      "source": [
        "With Load balancing"
      ]
    },
    {
      "cell_type": "code",
      "metadata": {
        "colab": {
          "base_uri": "https://localhost:8080/",
          "height": 329
        },
        "id": "wg80vzQEOkdO",
        "outputId": "78fada9f-2262-418c-ef48-75473f11ca42"
      },
      "source": [
        "sum1 = 0\n",
        "sum2 = 0\n",
        "duplicate = []\n",
        "for i in edge_iot1:\n",
        "  if i not in edge_iot2:\n",
        "    sum1 += loadiot[i-1]\n",
        "  else:\n",
        "    if i not in duplicate:\n",
        "      duplicate.append(i)\n",
        "for j in edge_iot2:\n",
        "  if j not in edge_iot1:\n",
        "    sum2 += loadiot[j-1]\n",
        "  else:\n",
        "    if j not in duplicate:\n",
        "      duplicate.append(j)\n",
        "\"\"\"print(\"connection before loading: \\n\",copyconn1)\n",
        "print(\"Load on edge1 server : \",sum1)\n",
        "print(\"Load on edge2 server : \",sum2)\"\"\"\n",
        "for val in duplicate:\n",
        "  if sum1 > sum2: \n",
        "    if (sum2+loadiot[val-1])<500:\n",
        "        sum2 += loadiot[val-1]\n",
        "        copyconn1[val-1][0] = 0\n",
        "    else:                       # sum2 > sum1:\n",
        "      if (sum1+loadiot[val-1])<500:\n",
        "        sum1 += loadiot[val-1]\n",
        "        copyconn1[val-1][1] = 0\n",
        "print(\"Load on edge1 server : \",sum1)\n",
        "print(\"Load on edge2 server : \",sum2)\n",
        "\n",
        "dict1 = {'Edge1': sum1,\n",
        "         'Edge2': sum2}\n",
        "x = dict1.keys()\n",
        "y = dict1.values()\n",
        "plt.grid()\n",
        "plt.xlabel(\"Edge servers\")\n",
        "plt.ylabel(\"Load on Edge servers(GB)\")\n",
        "plt.title(\"with load balancing at edge servers\")\n",
        "plt.bar(x,y, color='blue', width=0.2, alpha=0.5)\n",
        "plt.show()"
      ],
      "execution_count": 24,
      "outputs": [
        {
          "output_type": "stream",
          "name": "stdout",
          "text": [
            "Load on edge1 server :  200\n",
            "Load on edge2 server :  220\n"
          ]
        },
        {
          "output_type": "display_data",
          "data": {
            "image/png": "[encoded data removed]",
            "text/plain": [
              "<Figure size 432x288 with 1 Axes>"
            ]
          },
          "metadata": {
            "needs_background": "light"
          }
        }
      ]
    },
    {
      "cell_type": "code",
      "metadata": {
        "id": "5VyJQOzEtUf-"
      },
      "source": [
        ""
      ],
      "execution_count": null,
      "outputs": []
    }
  ]
}