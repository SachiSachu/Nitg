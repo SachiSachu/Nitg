{
  "nbformat": 4,
  "nbformat_minor": 0,
  "metadata": {
    "colab": {
      "name": "test pro.ipynb",
      "provenance": [],
      "collapsed_sections": [],
      "authorship_tag": "ABX9TyOi+vdnUIjWQzZV1Aqpv6yz",
      "include_colab_link": true
    },
    "kernelspec": {
      "name": "python3",
      "display_name": "Python 3"
    },
    "language_info": {
      "name": "python"
    }
  },
  "cells": [
    {
      "cell_type": "markdown",
      "metadata": {
        "id": "view-in-github",
        "colab_type": "text"
      },
      "source": [
        "<a href=\"https://colab.research.google.com/github/SachiSachu/Nitg/blob/main/test_pro.ipynb\" target=\"_parent\"><img src=\"https://colab.research.google.com/assets/colab-badge.svg\" alt=\"Open In Colab\"/></a>"
      ]
    },
    {
      "cell_type": "code",
      "metadata": {
        "colab": {
          "base_uri": "https://localhost:8080/"
        },
        "id": "9pXKSl5ZIt6f",
        "outputId": "3cf3afd5-9097-459d-90d8-6040a761cdec"
      },
      "source": [
        "import numpy as np\n",
        "import matplotlib.pyplot as plt\n",
        "import pandas as pd\n",
        "import random\n",
        "import math\n",
        "\n",
        "edges = int(input('number of edge devices: ')) #this is to take number of devices input\n",
        "\n",
        "iot = int(input(\"number of IOT devices: \")) #this line takes number of IoT devices\n",
        "edgeco = []                                 #this array is store the co-ordinates of edge devices\n",
        "for i in range(edges):                      #this loop creates the random x,y coordinates \n",
        "  ar1 = []\n",
        "  x = random.randint(0,100)\n",
        "  ar1.append(x)\n",
        "  y = random.randint(0,100)\n",
        "  ar1.append(y)\n",
        "  edgeco.append(ar1)\n",
        "#print(np.array(edgeco))\n",
        "\n",
        "iotco = []                                   #this array holds the the co-ordinates of IoT devices\n",
        "for i in range(iot):                         #this loop craetes the random x,y coordinates\n",
        "  ar1 = []\n",
        "  x = random.randint(0,100)\n",
        "  ar1.append(x)\n",
        "  y = random.randint(0,100)\n",
        "  ar1.append(y)\n",
        "  iotco.append(ar1)\n",
        "#print(np.array(iotco))\n",
        "\n",
        "dist = []                                   #this dist array is to store euclidean distance between edge devices and iot devices\n",
        "for i in range(iot):                        #this loop is to calculate the distance\n",
        "  ar1 = []\n",
        "  for j in range(edges):\n",
        "    x1 = (iotco[i][0]-edgeco[j][0])**2 + (iotco[i][1]-edgeco[j][1])**2    #euclidean distance formula sqrt( (x2-x1)^2 + (y2-y1)^2 ).... \n",
        "                                                                          #but here we have not calculated square root..it is done in the next line\n",
        "    ar1.append(int(math.sqrt(x1)))                                        #here we have stored suqare root of (x2-x1)^2 + (y2-y1)^2\n",
        "  dist.append(ar1)\n",
        "#print(np.array(dist))\n",
        "\n",
        "lim = int(input('enter the radius limit: '))                              #this lim is connection range between IoT device and edge device \n",
        "conn = []                                                                 #this conn array holds the connection possibility between IoT device \n",
        "                                                                          #and edge device if connection is made then 1 or 0\n",
        "for i in range(iot):\n",
        "  ar1 = []\n",
        "  for j in range(edges):\n",
        "    if dist[i][j] <=lim:\n",
        "      ar1.append(1)\n",
        "    else:\n",
        "      ar1.append(0)\n",
        "  conn.append(ar1)\n",
        "#print(np.array(conn))\n",
        "\n",
        "bucket = []                               #this bucket holds the device info which one connected to which edge devices\n",
        "for m in range(edges):\n",
        "  ab = []\n",
        "  bucket.append(ab)\n",
        "nonconn = []\n",
        "for i in range(iot):\n",
        "  sum1 = 0\n",
        "  for j in range(edges):\n",
        "    if conn[i][j] == 1:\n",
        "      bucket[j].append(i+1)\n",
        "  for k in range(edges):\n",
        "    sum1 = sum1 + conn[i][k]\n",
        "  if sum1==0:\n",
        "    nonconn.append(i+1)"
      ],
      "execution_count": 32,
      "outputs": [
        {
          "name": "stdout",
          "output_type": "stream",
          "text": [
            "number of edge devices: 8\n",
            "number of IOT devices: 32\n",
            "enter the radius limit: 35\n"
          ]
        }
      ]
    },
    {
      "cell_type": "code",
      "metadata": {
        "colab": {
          "base_uri": "https://localhost:8080/"
        },
        "id": "QINKx7J1hsoM",
        "outputId": "2f1108dc-590a-40e3-8482-6fca67a921e3"
      },
      "source": [
        "loadedge  = int(input('enter the load limit of edge devices: '))\n",
        "#declaring IoT loads\n",
        "loadiot = []                    #load iot holds the data produced by each iot device\n",
        "for l in range(iot):            \n",
        "  k = random.randint(50,250)    #here we have given data limit 50-250 so that it can pick within the given range\n",
        "  loadiot.append(k)"
      ],
      "execution_count": 33,
      "outputs": [
        {
          "name": "stdout",
          "output_type": "stream",
          "text": [
            "enter the load limit of edge devices: 800\n"
          ]
        }
      ]
    },
    {
      "cell_type": "code",
      "metadata": {
        "id": "Kpg25VlpC3Zk",
        "colab": {
          "base_uri": "https://localhost:8080/"
        },
        "outputId": "b6a3b16b-7319-4da1-a753-80311591a56d"
      },
      "source": [
        "condev = [] #this is to store which devices has  connected to server\n",
        "check = []\n",
        "lb = []     #this is store the load on each edge server\n",
        "for i in bucket:\n",
        "  abc = []\n",
        "  sum1 = 0\n",
        "  total = 0\n",
        "  for j in i:\n",
        "    if sum1 + loadiot[j-1] < loadedge:\n",
        "      sum1 += loadiot[j-1] \n",
        "      if j not in check:\n",
        "        total += loadiot[j-1]\n",
        "        check.append(j)\n",
        "        abc.append(j)\n",
        "      #print(loadiot[j-1])\n",
        "  lb.append(total)\n",
        "  condev.append(abc)\n",
        "print(\"load on each edge devices: \",lb)   #\\n server connection without load balance:\n",
        "#condev"
      ],
      "execution_count": 35,
      "outputs": [
        {
          "output_type": "stream",
          "name": "stdout",
          "text": [
            "load on each edge devices:  [680, 381, 761, 199, 378, 0, 453, 173]\n"
          ]
        }
      ]
    },
    {
      "cell_type": "code",
      "metadata": {
        "colab": {
          "base_uri": "https://localhost:8080/"
        },
        "id": "VRQ3fnUcKMuF",
        "outputId": "7e44183b-32f6-4704-ac7a-cc0b833cb20a"
      },
      "source": [
        "dict1 = {}\n",
        "k = 0\n",
        "for i in lb:\n",
        "  k += 1 \n",
        "  dict1[k] = i\n",
        "dict1"
      ],
      "execution_count": 36,
      "outputs": [
        {
          "output_type": "execute_result",
          "data": {
            "text/plain": [
              "{1: 680, 2: 381, 3: 761, 4: 199, 5: 378, 6: 0, 7: 453, 8: 173}"
            ]
          },
          "metadata": {},
          "execution_count": 36
        }
      ]
    },
    {
      "cell_type": "code",
      "metadata": {
        "colab": {
          "base_uri": "https://localhost:8080/",
          "height": 295
        },
        "id": "Brzu0Z8DUInv",
        "outputId": "2a0a04cb-1eac-4948-8762-2cf1a2085ec6"
      },
      "source": [
        "x = dict1.keys()\n",
        "y = dict1.values()\n",
        "plt.grid()\n",
        "plt.xlabel(\"Edge servers\")\n",
        "plt.ylabel(\"Load on Edge servers(GB)\")\n",
        "plt.title(\"without load balancing at edge servers\")\n",
        "plt.bar(x,y, color='blue', width=0.2, alpha=0.5)\n",
        "plt.show()"
      ],
      "execution_count": 37,
      "outputs": [
        {
          "output_type": "display_data",
          "data": {
            "image/png": "[encoded data removed]",
            "text/plain": [
              "<Figure size 432x288 with 1 Axes>"
            ]
          },
          "metadata": {
            "needs_background": "light"
          }
        }
      ]
    }
  ]
}