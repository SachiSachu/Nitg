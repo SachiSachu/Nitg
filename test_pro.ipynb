{
  "nbformat": 4,
  "nbformat_minor": 0,
  "metadata": {
    "colab": {
      "name": "test pro.ipynb",
      "provenance": [],
      "collapsed_sections": [],
      "toc_visible": true,
      "authorship_tag": "ABX9TyOVSfAWBRh5ow8NdIRg/rKr",
      "include_colab_link": true
    },
    "kernelspec": {
      "name": "python3",
      "display_name": "Python 3"
    },
    "language_info": {
      "name": "python"
    }
  },
  "cells": [
    {
      "cell_type": "markdown",
      "metadata": {
        "id": "view-in-github",
        "colab_type": "text"
      },
      "source": [
        "<a href=\"https://colab.research.google.com/github/SachiSachu/Nitg/blob/main/test_pro.ipynb\" target=\"_parent\"><img src=\"https://colab.research.google.com/assets/colab-badge.svg\" alt=\"Open In Colab\"/></a>"
      ]
    },
    {
      "cell_type": "code",
      "metadata": {
        "colab": {
          "base_uri": "https://localhost:8080/"
        },
        "id": "9pXKSl5ZIt6f",
        "outputId": "1b94057d-8f86-4901-ec98-9b658591dc09"
      },
      "source": [
        "import numpy as np\n",
        "import matplotlib.pyplot as plt\n",
        "import pandas as pd\n",
        "import random\n",
        "import math\n",
        "\n",
        "edges = int(input('number of edge devices: ')) #this is to take number of devices input\n",
        "\n",
        "iot = int(input(\"number of IOT devices: \")) #this line takes number of IoT devices\n",
        "edgeco = []                                 #this array is store the co-ordinates of edge devices\n",
        "for i in range(edges):                      #this loop creates the random x,y coordinates \n",
        "  ar1 = []\n",
        "  x = random.randint(0,100)\n",
        "  ar1.append(x)\n",
        "  y = random.randint(0,100)\n",
        "  ar1.append(y)\n",
        "  edgeco.append(ar1)\n",
        "#print(np.array(edgeco))\n",
        "\n",
        "iotco = []                                   #this array holds the the co-ordinates of IoT devices\n",
        "for i in range(iot):                         #this loop craetes the random x,y coordinates\n",
        "  ar1 = []\n",
        "  x = random.randint(0,100)\n",
        "  ar1.append(x)\n",
        "  y = random.randint(0,100)\n",
        "  ar1.append(y)\n",
        "  iotco.append(ar1)\n",
        "#print(np.array(iotco))\n",
        "\n",
        "dist = []                                   #this dist array is to store euclidean distance between edge devices and iot devices\n",
        "for i in range(iot):                        #this loop is to calculate the distance\n",
        "  ar1 = []\n",
        "  for j in range(edges):\n",
        "    x1 = (iotco[i][0]-edgeco[j][0])**2 + (iotco[i][1]-edgeco[j][1])**2    #euclidean distance formula sqrt( (x2-x1)^2 + (y2-y1)^2 ).... \n",
        "                                                                          #but here we have not calculated square root..it is done in the next line\n",
        "    ar1.append(int(math.sqrt(x1)))                                        #here we have stored suqare root of (x2-x1)^2 + (y2-y1)^2\n",
        "  dist.append(ar1)\n",
        "#print(np.array(dist))\n",
        "\n",
        "lim = int(input('enter the radius limit: '))                              #this lim is connection range between IoT device and edge device \n",
        "conn = []                                                                 #this conn array holds the connection possibility between IoT device \n",
        "                                                                          #and edge device if connection is made then 1 or 0\n",
        "for i in range(iot):\n",
        "  ar1 = []\n",
        "  for j in range(edges):\n",
        "    if dist[i][j] <=lim:\n",
        "      ar1.append(1)\n",
        "    else:\n",
        "      ar1.append(0)\n",
        "  conn.append(ar1)\n",
        "#print(np.array(conn))\n",
        "\n",
        "bucket = []                               #this bucket holds the device info which one connected to which edge devices\n",
        "for m in range(edges):\n",
        "  ab = []\n",
        "  bucket.append(ab)\n",
        "nonconn = []\n",
        "for i in range(iot):\n",
        "  sum1 = 0\n",
        "  for j in range(edges):\n",
        "    if conn[i][j] == 1:\n",
        "      bucket[j].append(i+1)\n",
        "  for k in range(edges):\n",
        "    sum1 = sum1 + conn[i][k]\n",
        "  if sum1==0:\n",
        "    nonconn.append(i+1)\n",
        "\n",
        "bucket"
      ],
      "execution_count": 27,
      "outputs": [
        {
          "name": "stdout",
          "output_type": "stream",
          "text": [
            "number of edge devices: 8\n",
            "number of IOT devices: 32\n",
            "enter the radius limit: 40\n"
          ]
        },
        {
          "output_type": "execute_result",
          "data": {
            "text/plain": [
              "[[6, 9, 14, 17, 22, 23, 25, 27, 28, 29, 30],\n",
              " [2, 3, 6, 8, 9, 10, 12, 14, 16, 21, 22, 24, 26, 30, 31, 32],\n",
              " [1, 2, 3, 7, 8, 9, 11, 15, 18, 19, 20],\n",
              " [5, 6, 13, 17, 19, 22, 23, 25, 28, 29, 30],\n",
              " [2,\n",
              "  3,\n",
              "  6,\n",
              "  8,\n",
              "  9,\n",
              "  10,\n",
              "  12,\n",
              "  14,\n",
              "  17,\n",
              "  18,\n",
              "  20,\n",
              "  21,\n",
              "  22,\n",
              "  24,\n",
              "  25,\n",
              "  26,\n",
              "  27,\n",
              "  28,\n",
              "  29,\n",
              "  30,\n",
              "  31,\n",
              "  32],\n",
              " [2, 3, 4, 10, 12, 14, 16, 21, 24, 26, 31, 32],\n",
              " [1, 2, 7, 8, 11, 18, 20],\n",
              " [2, 3, 4, 7, 11, 12, 16, 26, 31, 32]]"
            ]
          },
          "metadata": {},
          "execution_count": 27
        }
      ]
    },
    {
      "cell_type": "code",
      "metadata": {
        "colab": {
          "base_uri": "https://localhost:8080/"
        },
        "id": "QINKx7J1hsoM",
        "outputId": "e0f92a1d-8698-4543-bda8-0a4b91de07db"
      },
      "source": [
        "loadedge  = int(input('enter the load limit of edge devices: '))\n",
        "#declaring IoT loads\n",
        "loadiot = []                    #load iot holds the data produced by each iot device\n",
        "for l in range(iot):            \n",
        "  k = random.randint(50,250)    #here we have given data limit 50-250 so that it can pick within the given range\n",
        "  loadiot.append(k)"
      ],
      "execution_count": 28,
      "outputs": [
        {
          "name": "stdout",
          "output_type": "stream",
          "text": [
            "enter the load limit of edge devices: 1000\n"
          ]
        }
      ]
    },
    {
      "cell_type": "code",
      "metadata": {
        "id": "Kpg25VlpC3Zk",
        "colab": {
          "base_uri": "https://localhost:8080/"
        },
        "outputId": "2079d9a7-d109-4cb0-a1fe-03837fa26250"
      },
      "source": [
        "condev = [] #this is to store which devices has  connected to server\n",
        "check = []\n",
        "lb = []     #this is store the load on each edge server\n",
        "for i in bucket:\n",
        "  abc = []\n",
        "  sum1 = 0\n",
        "  total = 0\n",
        "  for j in i:\n",
        "    if sum1 + loadiot[j-1] < loadedge:\n",
        "      sum1 += loadiot[j-1] \n",
        "      if j not in check:\n",
        "        total += loadiot[j-1]\n",
        "        check.append(j)\n",
        "        abc.append(j)\n",
        "      #print(loadiot[j-1])\n",
        "  lb.append(total)\n",
        "  condev.append(abc)\n",
        "print(\"load on each edge devices: \",lb,\"\\n server connection without load balance:  \")\n",
        "condev"
      ],
      "execution_count": 29,
      "outputs": [
        {
          "output_type": "stream",
          "name": "stdout",
          "text": [
            "load on each edge devices:  [941, 759, 438, 490, 0, 374, 228, 116] \n",
            " server connection without load balance:  \n"
          ]
        },
        {
          "output_type": "execute_result",
          "data": {
            "text/plain": [
              "[[6, 9, 14, 17, 22, 23, 25, 27, 28, 29],\n",
              " [2, 3, 8, 10, 21],\n",
              " [1, 7, 11],\n",
              " [5, 13, 19],\n",
              " [],\n",
              " [4, 12, 32],\n",
              " [18, 20],\n",
              " [31]]"
            ]
          },
          "metadata": {},
          "execution_count": 29
        }
      ]
    },
    {
      "cell_type": "code",
      "metadata": {
        "colab": {
          "base_uri": "https://localhost:8080/"
        },
        "id": "VRQ3fnUcKMuF",
        "outputId": "408339ca-fff5-4a0f-9413-da7e7a65968a"
      },
      "source": [
        "dict1 = {}\n",
        "k = 0\n",
        "for i in lb:\n",
        "  k += 1 \n",
        "  dict1[k] = i\n",
        "dict1"
      ],
      "execution_count": 30,
      "outputs": [
        {
          "output_type": "execute_result",
          "data": {
            "text/plain": [
              "{1: 941, 2: 759, 3: 438, 4: 490, 5: 0, 6: 374, 7: 228, 8: 116}"
            ]
          },
          "metadata": {},
          "execution_count": 30
        }
      ]
    },
    {
      "cell_type": "code",
      "metadata": {
        "colab": {
          "base_uri": "https://localhost:8080/",
          "height": 295
        },
        "id": "Brzu0Z8DUInv",
        "outputId": "fa7e8387-e8ef-4f5e-96c6-48fbdd4dd340"
      },
      "source": [
        "x = dict1.keys()\n",
        "y = dict1.values()\n",
        "plt.grid()\n",
        "plt.xlabel(\"Edge servers\")\n",
        "plt.ylabel(\"Load on Edge servers(GB)\")\n",
        "plt.title(\"without load balancing at edge servers\")\n",
        "plt.bar(x,y, color='blue', width=0.2, alpha=0.5)\n",
        "plt.show()"
      ],
      "execution_count": 31,
      "outputs": [
        {
          "output_type": "display_data",
          "data": {
            "image/png": "[encoded data removed]",
            "text/plain": [
              "<Figure size 432x288 with 1 Axes>"
            ]
          },
          "metadata": {
            "needs_background": "light"
          }
        }
      ]
    },
    {
      "cell_type": "code",
      "metadata": {
        "id": "xWeZnaMRZBhL"
      },
      "source": [
        ""
      ],
      "execution_count": null,
      "outputs": []
    }
  ]
}