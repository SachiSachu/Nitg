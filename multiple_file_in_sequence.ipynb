{
  "nbformat": 4,
  "nbformat_minor": 0,
  "metadata": {
    "colab": {
      "name": "multiple file in sequence.ipynb",
      "provenance": [],
      "collapsed_sections": [],
      "authorship_tag": "ABX9TyOoH5PUPeaG9G9RXncUkWbI",
      "include_colab_link": true
    },
    "kernelspec": {
      "name": "python3",
      "display_name": "Python 3"
    },
    "language_info": {
      "name": "python"
    }
  },
  "cells": [
    {
      "cell_type": "markdown",
      "metadata": {
        "id": "view-in-github",
        "colab_type": "text"
      },
      "source": [
        "<a href=\"https://colab.research.google.com/github/SachiSachu/Nitg/blob/main/multiple_file_in_sequence.ipynb\" target=\"_parent\"><img src=\"https://colab.research.google.com/assets/colab-badge.svg\" alt=\"Open In Colab\"/></a>"
      ]
    },
    {
      "cell_type": "code",
      "metadata": {
        "id": "jfXY0G16780s",
        "colab": {
          "base_uri": "https://localhost:8080/"
        },
        "outputId": "dda6ca7c-8c25-47a9-8989-71d05295b088"
      },
      "source": [
        "import numpy as np\n",
        "import matplotlib.pyplot as plt\n",
        "import pandas as pd\n",
        "import random\n",
        "import math\n",
        "import os\n",
        "edges = int(input('number of edge devices: ')) #this is to take number of devices input\n",
        "\n",
        "iot = int(input(\"number of IOT devices: \")) #this line takes number of IoT devices"
      ],
      "execution_count": 11,
      "outputs": [
        {
          "name": "stdout",
          "output_type": "stream",
          "text": [
            "number of edge devices: 2\n",
            "number of IOT devices: 10\n"
          ]
        }
      ]
    },
    {
      "cell_type": "code",
      "metadata": {
        "id": "k5B1MJhstyNC"
      },
      "source": [
        "for klm in range(10):\n",
        "  m = 0\n",
        "  while os.path.exists(\"edgefile%s.npy\" % m):\n",
        "      m += 1\n",
        "  l = 0\n",
        "  while os.path.exists(\"iotfile%s.npy\" % l):\n",
        "      l += 1\n",
        "\n",
        "\n",
        "  edgeco = []                                 #this array is store the co-ordinates of edge devices\n",
        "  for i in range(edges):                      #this loop creates the random x,y coordinates \n",
        "    ar1 = []\n",
        "    x = random.randint(0,100)\n",
        "    ar1.append(x)\n",
        "    y = random.randint(0,100)\n",
        "    ar1.append(y)\n",
        "    edgeco.append(ar1)\n",
        "  np.savetxt(\"edgefile%s.npy\" % m, edgeco)\n",
        "\n",
        "  iotco = []                                   #this array holds the the co-ordinates of IoT devices\n",
        "  for i in range(iot):                         #this loop craetes the random x,y coordinates\n",
        "    ar1 = []\n",
        "    x = random.randint(0,100)\n",
        "    ar1.append(x)\n",
        "    y = random.randint(0,100)\n",
        "    ar1.append(y)\n",
        "    iotco.append(ar1)\n",
        "\n",
        "  np.savetxt(\"iotfile%s.npy\" % l, iotco)"
      ],
      "execution_count": 29,
      "outputs": []
    },
    {
      "cell_type": "code",
      "metadata": {
        "id": "4rMbeLLR5e8a",
        "colab": {
          "base_uri": "https://localhost:8080/"
        },
        "outputId": "ff94e95e-aaae-4b29-fb08-11d9d3a70842"
      },
      "source": [
        "m = 0\n",
        "while os.path.exists(\"edgefile%s.npy\" % m):\n",
        "  el = np.loadtxt(\"edgefile%s.npy\" %m)\n",
        "  print(el)\n",
        "  m += 1\n"
      ],
      "execution_count": 30,
      "outputs": [
        {
          "output_type": "stream",
          "name": "stdout",
          "text": [
            "[[99. 86.]\n",
            " [48. 15.]]\n",
            "[[45. 72.]\n",
            " [54. 75.]]\n",
            "[[42. 84.]\n",
            " [79. 77.]]\n",
            "[[ 1. 50.]\n",
            " [30. 30.]]\n",
            "[[19. 85.]\n",
            " [86. 10.]]\n",
            "[[74. 44.]\n",
            " [12. 56.]]\n",
            "[[ 7.  2.]\n",
            " [69.  7.]]\n",
            "[[25. 27.]\n",
            " [96. 70.]]\n",
            "[[ 39. 100.]\n",
            " [ 87.   8.]]\n",
            "[[ 5. 68.]\n",
            " [67. 79.]]\n"
          ]
        }
      ]
    },
    {
      "cell_type": "code",
      "metadata": {
        "colab": {
          "base_uri": "https://localhost:8080/"
        },
        "id": "4ZjJiQFhN386",
        "outputId": "05620b2a-7e22-444a-cd84-8cec799c5faf"
      },
      "source": [
        "l = 0\n",
        "while os.path.exists(\"iotfile%s.npy\" % l):\n",
        "  loadiot = np.loadtxt(\"iotfile%s.npy\" %l)\n",
        "  print(loadiot)\n",
        "  l += 1"
      ],
      "execution_count": 31,
      "outputs": [
        {
          "output_type": "stream",
          "name": "stdout",
          "text": [
            "[[98. 65.]\n",
            " [26. 45.]\n",
            " [99. 35.]\n",
            " [ 6. 98.]\n",
            " [66. 14.]\n",
            " [43.  1.]\n",
            " [ 9. 66.]\n",
            " [61. 23.]\n",
            " [66. 86.]\n",
            " [ 6. 24.]]\n",
            "[[50. 25.]\n",
            " [73. 94.]\n",
            " [39. 36.]\n",
            " [88. 42.]\n",
            " [91. 78.]\n",
            " [52. 77.]\n",
            " [10. 86.]\n",
            " [11. 38.]\n",
            " [96. 58.]\n",
            " [71. 17.]]\n",
            "[[ 92.  15.]\n",
            " [ 20.  76.]\n",
            " [ 77.  95.]\n",
            " [ 22.  70.]\n",
            " [ 23.  36.]\n",
            " [ 17.  36.]\n",
            " [ 76.  80.]\n",
            " [100.  99.]\n",
            " [ 82.  24.]\n",
            " [ 60.   1.]]\n",
            "[[ 7. 77.]\n",
            " [55. 74.]\n",
            " [ 9. 95.]\n",
            " [91. 48.]\n",
            " [86. 47.]\n",
            " [76. 76.]\n",
            " [65. 34.]\n",
            " [ 6. 78.]\n",
            " [86. 95.]\n",
            " [80. 91.]]\n",
            "[[ 6. 42.]\n",
            " [11. 60.]\n",
            " [36. 69.]\n",
            " [16. 23.]\n",
            " [40. 91.]\n",
            " [82. 78.]\n",
            " [47. 12.]\n",
            " [97. 76.]\n",
            " [39. 97.]\n",
            " [82. 56.]]\n",
            "[[66. 17.]\n",
            " [54. 90.]\n",
            " [73. 47.]\n",
            " [65.  0.]\n",
            " [92.  7.]\n",
            " [58. 87.]\n",
            " [95. 72.]\n",
            " [62. 31.]\n",
            " [88. 66.]\n",
            " [67. 67.]]\n",
            "[[96. 93.]\n",
            " [23.  0.]\n",
            " [75. 66.]\n",
            " [52. 26.]\n",
            " [43. 99.]\n",
            " [13. 72.]\n",
            " [43. 37.]\n",
            " [20. 59.]\n",
            " [87. 79.]\n",
            " [42. 61.]]\n",
            "[[ 8. 70.]\n",
            " [90. 40.]\n",
            " [26. 38.]\n",
            " [69. 32.]\n",
            " [54. 11.]\n",
            " [58. 55.]\n",
            " [99.  9.]\n",
            " [91. 85.]\n",
            " [ 9. 84.]\n",
            " [29. 11.]]\n",
            "[[61. 18.]\n",
            " [19. 33.]\n",
            " [27. 33.]\n",
            " [24. 87.]\n",
            " [13. 78.]\n",
            " [55. 71.]\n",
            " [56. 60.]\n",
            " [76.  1.]\n",
            " [33. 68.]\n",
            " [36. 67.]]\n",
            "[[29. 57.]\n",
            " [14. 14.]\n",
            " [39. 94.]\n",
            " [53. 13.]\n",
            " [38. 87.]\n",
            " [29. 39.]\n",
            " [53. 78.]\n",
            " [48. 25.]\n",
            " [12. 37.]\n",
            " [94. 86.]]\n"
          ]
        }
      ]
    },
    {
      "cell_type": "code",
      "metadata": {
        "id": "aE22rIrvPhb-",
        "colab": {
          "base_uri": "https://localhost:8080/",
          "height": 35
        },
        "outputId": "90a7e43d-6322-41ab-c273-4d0458d10edd"
      },
      "source": [
        "\"\"\"import os\n",
        "\n",
        "i = 0\n",
        "while os.path.exists(\"sample%s.xml\" % i):\n",
        "    i += 1\n",
        "\n",
        "fh = open(\"sample%s.xml\" % i, \"w\")\"\"\""
      ],
      "execution_count": 27,
      "outputs": [
        {
          "output_type": "execute_result",
          "data": {
            "application/vnd.google.colaboratory.intrinsic+json": {
              "type": "string"
            },
            "text/plain": [
              "'import os\\n\\ni = 0\\nwhile os.path.exists(\"sample%s.xml\" % i):\\n    i += 1\\n\\nfh = open(\"sample%s.xml\" % i, \"w\")'"
            ]
          },
          "metadata": {},
          "execution_count": 27
        }
      ]
    },
    {
      "cell_type": "code",
      "metadata": {
        "id": "AeILUMqCtfAg",
        "colab": {
          "base_uri": "https://localhost:8080/",
          "height": 35
        },
        "outputId": "9b396837-adec-4afa-d952-1edf2a6446c0"
      },
      "source": [
        "\"\"\"i = 0\n",
        "while os.path.exists(\"sample%s.npy\" % i):\n",
        "    i += 1\n",
        "\n",
        "fh = open(\"sample%s.npy\" % i, \"w\")\"\"\""
      ],
      "execution_count": 28,
      "outputs": [
        {
          "output_type": "execute_result",
          "data": {
            "application/vnd.google.colaboratory.intrinsic+json": {
              "type": "string"
            },
            "text/plain": [
              "'i = 0\\nwhile os.path.exists(\"sample%s.npy\" % i):\\n    i += 1\\n\\nfh = open(\"sample%s.npy\" % i, \"w\")'"
            ]
          },
          "metadata": {},
          "execution_count": 28
        }
      ]
    }
  ]
}